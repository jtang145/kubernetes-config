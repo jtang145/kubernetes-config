{
 "cells": [
  {
   "cell_type": "markdown",
   "metadata": {},
   "source": [
    "# Running AKS for mssql"
   ]
  },
  {
   "cell_type": "markdown",
   "metadata": {},
   "source": [
    "# Setups\n",
    "\n",
    "## Setup on Windows\n",
    "\n",
    "```\n",
    "az account set -s 941c4202-4cd1-47bf-8f41-xxxxx\n",
    "az login\n",
    "az group create -l \"Japan East\" -n rg-xxxx\n",
    "\n",
    "az aks create --resource-group rg-xxxx --name test-nodes --node-count 1 --node-vm-size Standard_B2s --node-osdisk-size 60 --generate-ssh-keys\n",
    "```\n",
    "\n",
    "## Setup on Linux\n",
    "\n",
    "```\n",
    "\n",
    "export AZURE_SUBSCRIPTION_ID=[to be filled]\n",
    "export AZURE_RESOURCE_GROUP=rg-xxxx\n",
    "export AZURE_REGION=[to be filled]\n",
    "\n",
    "#\n",
    "az account set -s $AZURE_SUBSCRIPTION_ID\n",
    "az login\n",
    "az group create -l $AZURE_REGION -n $AZURE_RESOURCE_GROUP\n",
    "\n",
    "# \n",
    "export AKS_CLUSTER_NAME=test-nodes\n",
    "\n",
    "az aks create --resource-group $AZURE_RESOURCE_GROUP --name $AKS_CLUSTER_NAME --node-count 1 --node-vm-size Standard_B2s --node-osdisk-size 30 --generate-ssh-keys\n",
    "```\n",
    "\n",
    "# Check Setup\n",
    "\n",
    "```\n",
    "az aks get-credentials --resource-group rg-xxxx --name test-nodes\n",
    "kubectl get nodes\n",
    "```\n"
   ]
  },
  {
   "cell_type": "markdown",
   "metadata": {},
   "source": [
    "# Operations\n",
    "\n",
    "## Install MSSQL into kuberneters\n",
    "\n",
    "```\n",
    "kubectl apply -f SQLServer2019.yaml\n",
    "\n",
    "kubectl get deployment\n",
    "```\n",
    "\n",
    "## Check MSSQL Status\n",
    "```\n",
    "sqlcmd -S 13.75.94.26,31433 -U sa -Q 'SELECT @@VERSION' -P 'S0methingS@Str0ng!'\n",
    "```"
   ]
  },
  {
   "cell_type": "code",
   "execution_count": 3,
   "metadata": {},
   "outputs": [],
   "source": []
  },
  {
   "cell_type": "code",
   "execution_count": null,
   "metadata": {},
   "outputs": [],
   "source": []
  }
 ],
 "metadata": {
  "kernelspec": {
   "display_name": "Python 3",
   "language": "python",
   "name": "python3"
  },
  "language_info": {
   "codemirror_mode": {
    "name": "ipython",
    "version": 3
   },
   "file_extension": ".py",
   "mimetype": "text/x-python",
   "name": "python",
   "nbconvert_exporter": "python",
   "pygments_lexer": "ipython3",
   "version": "3.7.6"
  }
 },
 "nbformat": 4,
 "nbformat_minor": 4
}
